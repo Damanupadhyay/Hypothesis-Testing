{
 "cells": [
  {
   "cell_type": "markdown",
   "id": "438dad04",
   "metadata": {},
   "source": [
    "# Hypothesis Testing \n",
    "---\n",
    "#### Problem Statement \n",
    "\n",
    "* An online bookstore is looking to optimize its website design to improve user engagement and ultimately increase book purchases. The website currently offers two themes for its users: “Light Theme” and “Dark Theme.” The bookstore’s data science team wants to conduct an Hypothesis Testing and A/B Testing  experiment to determine which theme leads to better user engagement and higher conversion rates for book purchases.\n",
    "\n",
    "#### Goal\n",
    "\n",
    "* Task is to identify which theme, Light Theme or Dark Theme, yields better user engagement, purchases and conversion rates. You need to determine if there is a statistically significant difference in the key metrics between the two themes.\n"
   ]
  },
  {
   "cell_type": "markdown",
   "id": "1bbda46f",
   "metadata": {},
   "source": [
    "### Import Required Libraries "
   ]
  },
  {
   "cell_type": "code",
   "execution_count": 1,
   "id": "f9533ce7",
   "metadata": {},
   "outputs": [],
   "source": [
    "import numpy as np \n",
    "import pandas as pd \n",
    "from scipy.stats import ttest_ind"
   ]
  },
  {
   "cell_type": "code",
   "execution_count": 4,
   "id": "6516b6e8",
   "metadata": {},
   "outputs": [
    {
     "data": {
      "text/html": [
       "<div>\n",
       "<style scoped>\n",
       "    .dataframe tbody tr th:only-of-type {\n",
       "        vertical-align: middle;\n",
       "    }\n",
       "\n",
       "    .dataframe tbody tr th {\n",
       "        vertical-align: top;\n",
       "    }\n",
       "\n",
       "    .dataframe thead th {\n",
       "        text-align: right;\n",
       "    }\n",
       "</style>\n",
       "<table border=\"1\" class=\"dataframe\">\n",
       "  <thead>\n",
       "    <tr style=\"text-align: right;\">\n",
       "      <th></th>\n",
       "      <th>Theme</th>\n",
       "      <th>Click Through Rate</th>\n",
       "      <th>Conversion Rate</th>\n",
       "      <th>Bounce Rate</th>\n",
       "      <th>Scroll_Depth</th>\n",
       "      <th>Age</th>\n",
       "      <th>Location</th>\n",
       "      <th>Session_Duration</th>\n",
       "      <th>Purchases</th>\n",
       "      <th>Added_to_Cart</th>\n",
       "    </tr>\n",
       "  </thead>\n",
       "  <tbody>\n",
       "    <tr>\n",
       "      <th>0</th>\n",
       "      <td>Light Theme</td>\n",
       "      <td>0.054920</td>\n",
       "      <td>0.282367</td>\n",
       "      <td>0.405085</td>\n",
       "      <td>72.489458</td>\n",
       "      <td>25</td>\n",
       "      <td>Chennai</td>\n",
       "      <td>1535</td>\n",
       "      <td>No</td>\n",
       "      <td>Yes</td>\n",
       "    </tr>\n",
       "    <tr>\n",
       "      <th>1</th>\n",
       "      <td>Light Theme</td>\n",
       "      <td>0.113932</td>\n",
       "      <td>0.032973</td>\n",
       "      <td>0.732759</td>\n",
       "      <td>61.858568</td>\n",
       "      <td>19</td>\n",
       "      <td>Pune</td>\n",
       "      <td>303</td>\n",
       "      <td>No</td>\n",
       "      <td>Yes</td>\n",
       "    </tr>\n",
       "    <tr>\n",
       "      <th>2</th>\n",
       "      <td>Dark Theme</td>\n",
       "      <td>0.323352</td>\n",
       "      <td>0.178763</td>\n",
       "      <td>0.296543</td>\n",
       "      <td>45.737376</td>\n",
       "      <td>47</td>\n",
       "      <td>Chennai</td>\n",
       "      <td>563</td>\n",
       "      <td>Yes</td>\n",
       "      <td>Yes</td>\n",
       "    </tr>\n",
       "    <tr>\n",
       "      <th>3</th>\n",
       "      <td>Light Theme</td>\n",
       "      <td>0.485836</td>\n",
       "      <td>0.325225</td>\n",
       "      <td>0.245001</td>\n",
       "      <td>76.305298</td>\n",
       "      <td>58</td>\n",
       "      <td>Pune</td>\n",
       "      <td>385</td>\n",
       "      <td>Yes</td>\n",
       "      <td>No</td>\n",
       "    </tr>\n",
       "    <tr>\n",
       "      <th>4</th>\n",
       "      <td>Light Theme</td>\n",
       "      <td>0.034783</td>\n",
       "      <td>0.196766</td>\n",
       "      <td>0.765100</td>\n",
       "      <td>48.927407</td>\n",
       "      <td>25</td>\n",
       "      <td>New Delhi</td>\n",
       "      <td>1437</td>\n",
       "      <td>No</td>\n",
       "      <td>No</td>\n",
       "    </tr>\n",
       "  </tbody>\n",
       "</table>\n",
       "</div>"
      ],
      "text/plain": [
       "         Theme  Click Through Rate  Conversion Rate  Bounce Rate  \\\n",
       "0  Light Theme            0.054920         0.282367     0.405085   \n",
       "1  Light Theme            0.113932         0.032973     0.732759   \n",
       "2   Dark Theme            0.323352         0.178763     0.296543   \n",
       "3  Light Theme            0.485836         0.325225     0.245001   \n",
       "4  Light Theme            0.034783         0.196766     0.765100   \n",
       "\n",
       "   Scroll_Depth  Age   Location  Session_Duration Purchases Added_to_Cart  \n",
       "0     72.489458   25    Chennai              1535        No           Yes  \n",
       "1     61.858568   19       Pune               303        No           Yes  \n",
       "2     45.737376   47    Chennai               563       Yes           Yes  \n",
       "3     76.305298   58       Pune               385       Yes            No  \n",
       "4     48.927407   25  New Delhi              1437        No            No  "
      ]
     },
     "execution_count": 4,
     "metadata": {},
     "output_type": "execute_result"
    }
   ],
   "source": [
    "### Load CSV file\n",
    "df= pd.read_csv(\"C:\\\\Users\\\\Daman\\\\Downloads\\\\website_ab_test.csv\")\n",
    "df.head()"
   ]
  },
  {
   "cell_type": "code",
   "execution_count": 5,
   "id": "4f72109c",
   "metadata": {},
   "outputs": [
    {
     "name": "stdout",
     "output_type": "stream",
     "text": [
      "<class 'pandas.core.frame.DataFrame'>\n",
      "RangeIndex: 1000 entries, 0 to 999\n",
      "Data columns (total 10 columns):\n",
      " #   Column              Non-Null Count  Dtype  \n",
      "---  ------              --------------  -----  \n",
      " 0   Theme               1000 non-null   object \n",
      " 1   Click Through Rate  1000 non-null   float64\n",
      " 2   Conversion Rate     1000 non-null   float64\n",
      " 3   Bounce Rate         1000 non-null   float64\n",
      " 4   Scroll_Depth        1000 non-null   float64\n",
      " 5   Age                 1000 non-null   int64  \n",
      " 6   Location            1000 non-null   object \n",
      " 7   Session_Duration    1000 non-null   int64  \n",
      " 8   Purchases           1000 non-null   object \n",
      " 9   Added_to_Cart       1000 non-null   object \n",
      "dtypes: float64(4), int64(2), object(4)\n",
      "memory usage: 78.3+ KB\n"
     ]
    }
   ],
   "source": [
    "df.info()"
   ]
  },
  {
   "cell_type": "markdown",
   "id": "5ef06cc9",
   "metadata": {},
   "source": [
    "* There are no null values in entire dataset "
   ]
  },
  {
   "cell_type": "code",
   "execution_count": 11,
   "id": "6064dcdb",
   "metadata": {},
   "outputs": [
    {
     "data": {
      "text/html": [
       "<div>\n",
       "<style scoped>\n",
       "    .dataframe tbody tr th:only-of-type {\n",
       "        vertical-align: middle;\n",
       "    }\n",
       "\n",
       "    .dataframe tbody tr th {\n",
       "        vertical-align: top;\n",
       "    }\n",
       "\n",
       "    .dataframe thead th {\n",
       "        text-align: right;\n",
       "    }\n",
       "</style>\n",
       "<table border=\"1\" class=\"dataframe\">\n",
       "  <thead>\n",
       "    <tr style=\"text-align: right;\">\n",
       "      <th></th>\n",
       "      <th>count</th>\n",
       "      <th>mean</th>\n",
       "      <th>std</th>\n",
       "      <th>min</th>\n",
       "      <th>25%</th>\n",
       "      <th>50%</th>\n",
       "      <th>75%</th>\n",
       "      <th>max</th>\n",
       "    </tr>\n",
       "  </thead>\n",
       "  <tbody>\n",
       "    <tr>\n",
       "      <th>Click Through Rate</th>\n",
       "      <td>1000.0</td>\n",
       "      <td>0.256048</td>\n",
       "      <td>0.139265</td>\n",
       "      <td>0.010767</td>\n",
       "      <td>0.140794</td>\n",
       "      <td>0.253715</td>\n",
       "      <td>0.370674</td>\n",
       "      <td>0.499989</td>\n",
       "    </tr>\n",
       "    <tr>\n",
       "      <th>Conversion Rate</th>\n",
       "      <td>1000.0</td>\n",
       "      <td>0.253312</td>\n",
       "      <td>0.139092</td>\n",
       "      <td>0.010881</td>\n",
       "      <td>0.131564</td>\n",
       "      <td>0.252823</td>\n",
       "      <td>0.373040</td>\n",
       "      <td>0.498916</td>\n",
       "    </tr>\n",
       "    <tr>\n",
       "      <th>Bounce Rate</th>\n",
       "      <td>1000.0</td>\n",
       "      <td>0.505758</td>\n",
       "      <td>0.172195</td>\n",
       "      <td>0.200720</td>\n",
       "      <td>0.353609</td>\n",
       "      <td>0.514049</td>\n",
       "      <td>0.648557</td>\n",
       "      <td>0.799658</td>\n",
       "    </tr>\n",
       "    <tr>\n",
       "      <th>Scroll_Depth</th>\n",
       "      <td>1000.0</td>\n",
       "      <td>50.319494</td>\n",
       "      <td>16.895269</td>\n",
       "      <td>20.011738</td>\n",
       "      <td>35.655167</td>\n",
       "      <td>51.130712</td>\n",
       "      <td>64.666258</td>\n",
       "      <td>79.997108</td>\n",
       "    </tr>\n",
       "    <tr>\n",
       "      <th>Age</th>\n",
       "      <td>1000.0</td>\n",
       "      <td>41.528000</td>\n",
       "      <td>14.114334</td>\n",
       "      <td>18.000000</td>\n",
       "      <td>29.000000</td>\n",
       "      <td>42.000000</td>\n",
       "      <td>54.000000</td>\n",
       "      <td>65.000000</td>\n",
       "    </tr>\n",
       "    <tr>\n",
       "      <th>Session_Duration</th>\n",
       "      <td>1000.0</td>\n",
       "      <td>924.999000</td>\n",
       "      <td>508.231723</td>\n",
       "      <td>38.000000</td>\n",
       "      <td>466.500000</td>\n",
       "      <td>931.000000</td>\n",
       "      <td>1375.250000</td>\n",
       "      <td>1797.000000</td>\n",
       "    </tr>\n",
       "  </tbody>\n",
       "</table>\n",
       "</div>"
      ],
      "text/plain": [
       "                     count        mean         std        min         25%  \\\n",
       "Click Through Rate  1000.0    0.256048    0.139265   0.010767    0.140794   \n",
       "Conversion Rate     1000.0    0.253312    0.139092   0.010881    0.131564   \n",
       "Bounce Rate         1000.0    0.505758    0.172195   0.200720    0.353609   \n",
       "Scroll_Depth        1000.0   50.319494   16.895269  20.011738   35.655167   \n",
       "Age                 1000.0   41.528000   14.114334  18.000000   29.000000   \n",
       "Session_Duration    1000.0  924.999000  508.231723  38.000000  466.500000   \n",
       "\n",
       "                           50%          75%          max  \n",
       "Click Through Rate    0.253715     0.370674     0.499989  \n",
       "Conversion Rate       0.252823     0.373040     0.498916  \n",
       "Bounce Rate           0.514049     0.648557     0.799658  \n",
       "Scroll_Depth         51.130712    64.666258    79.997108  \n",
       "Age                  42.000000    54.000000    65.000000  \n",
       "Session_Duration    931.000000  1375.250000  1797.000000  "
      ]
     },
     "execution_count": 11,
     "metadata": {},
     "output_type": "execute_result"
    }
   ],
   "source": [
    "df.describe().T"
   ]
  },
  {
   "cell_type": "markdown",
   "id": "8bb634db",
   "metadata": {},
   "source": [
    "* **Click Through Rate**: Ranges from about 0.01 to 0.50 with a mean of approximately 0.26.\n",
    "\n",
    "* **Conversion Rate**: Also ranges from about 0.01 to 0.50 with a mean close to the Click Through Rate, approximately 0.25.\n",
    "\n",
    "* **Bounce Rate**: Varies between 0.20 and 0.80, with a mean around 0.51.\n",
    "\n",
    "* **Scroll Depth**: Shows a spread from 20.01 to nearly 80, with a mean of 50.32.\n",
    "\n",
    "* **Age**: The age of users ranges from 18 to 65 years, with a mean age of about 41.5 years.\n",
    "\n",
    "* **Session Duration**: This varies widely from 38 seconds to nearly 1800 seconds (30 minutes), with a mean session duration of approximately 925 seconds (about 15 minutes)."
   ]
  },
  {
   "cell_type": "markdown",
   "id": "9e949f7b",
   "metadata": {},
   "source": [
    "#### Comparing the performance of both themes based on the provided metrics"
   ]
  },
  {
   "cell_type": "code",
   "execution_count": 14,
   "id": "87928ee2",
   "metadata": {},
   "outputs": [
    {
     "name": "stdout",
     "output_type": "stream",
     "text": [
      "['Theme', 'Click Through Rate', 'Conversion Rate', 'Bounce Rate', 'Scroll_Depth', 'Age', 'Location', 'Session_Duration', 'Purchases', 'Added_to_Cart']\n"
     ]
    }
   ],
   "source": [
    "### Remove categorical and string type of columns from dataset\n",
    "column_names = df.columns.tolist()\n",
    "print(column_names)"
   ]
  },
  {
   "cell_type": "code",
   "execution_count": 16,
   "id": "11b2c9dd",
   "metadata": {},
   "outputs": [],
   "source": [
    "drop_columns = ['Location','Purchases', 'Added_to_Cart']\n",
    "test_df = df.drop(columns=drop_columns)"
   ]
  },
  {
   "cell_type": "code",
   "execution_count": 21,
   "id": "4a222a8b",
   "metadata": {},
   "outputs": [],
   "source": [
    "## calcuate mean for all the metrics by themes \n",
    "theme_perfomance = test_df.groupby('Theme').mean()\n",
    "theme_perfomance = pd.DataFrame(theme_perfomance)"
   ]
  },
  {
   "cell_type": "code",
   "execution_count": 22,
   "id": "5fede9dc",
   "metadata": {},
   "outputs": [
    {
     "data": {
      "text/html": [
       "<div>\n",
       "<style scoped>\n",
       "    .dataframe tbody tr th:only-of-type {\n",
       "        vertical-align: middle;\n",
       "    }\n",
       "\n",
       "    .dataframe tbody tr th {\n",
       "        vertical-align: top;\n",
       "    }\n",
       "\n",
       "    .dataframe thead th {\n",
       "        text-align: right;\n",
       "    }\n",
       "</style>\n",
       "<table border=\"1\" class=\"dataframe\">\n",
       "  <thead>\n",
       "    <tr style=\"text-align: right;\">\n",
       "      <th></th>\n",
       "      <th>Click Through Rate</th>\n",
       "      <th>Conversion Rate</th>\n",
       "      <th>Bounce Rate</th>\n",
       "      <th>Scroll_Depth</th>\n",
       "      <th>Age</th>\n",
       "      <th>Session_Duration</th>\n",
       "    </tr>\n",
       "    <tr>\n",
       "      <th>Theme</th>\n",
       "      <th></th>\n",
       "      <th></th>\n",
       "      <th></th>\n",
       "      <th></th>\n",
       "      <th></th>\n",
       "      <th></th>\n",
       "    </tr>\n",
       "  </thead>\n",
       "  <tbody>\n",
       "    <tr>\n",
       "      <th>Dark Theme</th>\n",
       "      <td>0.264501</td>\n",
       "      <td>0.251282</td>\n",
       "      <td>0.512115</td>\n",
       "      <td>49.926404</td>\n",
       "      <td>41.332685</td>\n",
       "      <td>919.482490</td>\n",
       "    </tr>\n",
       "    <tr>\n",
       "      <th>Light Theme</th>\n",
       "      <td>0.247109</td>\n",
       "      <td>0.255459</td>\n",
       "      <td>0.499035</td>\n",
       "      <td>50.735232</td>\n",
       "      <td>41.734568</td>\n",
       "      <td>930.833333</td>\n",
       "    </tr>\n",
       "  </tbody>\n",
       "</table>\n",
       "</div>"
      ],
      "text/plain": [
       "             Click Through Rate  Conversion Rate  Bounce Rate  Scroll_Depth  \\\n",
       "Theme                                                                         \n",
       "Dark Theme             0.264501         0.251282     0.512115     49.926404   \n",
       "Light Theme            0.247109         0.255459     0.499035     50.735232   \n",
       "\n",
       "                   Age  Session_Duration  \n",
       "Theme                                     \n",
       "Dark Theme   41.332685        919.482490  \n",
       "Light Theme  41.734568        930.833333  "
      ]
     },
     "execution_count": 22,
     "metadata": {},
     "output_type": "execute_result"
    }
   ],
   "source": [
    "theme_perfomance"
   ]
  },
  {
   "cell_type": "markdown",
   "id": "5593c588",
   "metadata": {},
   "source": [
    "* **Click Through Rate (CTR)**: Dark Theme has a slightly higher CTR (0.2645) compared to Light Theme (0.2471). This suggests that users might find the Dark Theme more engaging or appealing in terms of click interaction.<br>\n",
    "<br>\n",
    "* **Conversion Rate**: The conversion rate is similar for both themes, with Light Theme slightly higher at 0.2555 compared to Dark Theme at 0.2513. This indicates that both themes are equally effective in converting users.<br>\n",
    "<br>\n",
    "* **Bounce Rate**: Dark Theme has a higher bounce rate (0.5121) compared to Light Theme (0.4990). This suggests that users might find the Dark Theme less engaging or informative, leading to more immediate exits from the page.<br>\n",
    "<br>\n",
    "* **Scroll Depth**: The average scroll depth is slightly higher for Light Theme (50.74) compared to Dark Theme (49.93). This could indicate that users spend slightly more time scrolling on pages with the Light Theme.<br>\n",
    "<br>\n",
    "* **Session Duration**: The average session duration is similar for both themes, with Light Theme having a slightly higher duration (930.83) compared to Dark Theme (919.48). This suggests that users might spend slightly more time on pages with the Light Theme."
   ]
  },
  {
   "cell_type": "markdown",
   "id": "ce9ab3f4",
   "metadata": {},
   "source": [
    "#### Defind null H0 and Ha Hypothesis \n",
    "---\n",
    "\n",
    "We’ll use a significance level (alpha) of 0.05 for our hypothesis testing. It means we’ll consider a result statistically significant if the p-value from our test is less than 0.05.\n",
    "\n",
    "start with hypothesis testing based on the Conversion Rate ,Click Through Rate(CTR), Bounce Rate, Scroll Depth, Session Duration respectively between the Light Theme and Dark Theme. \n",
    "\n",
    "\n",
    "* **Null Hypothesis (H0​)**: There is no difference in performance  between the Light Theme and Dark Theme.<br>\n",
    "<br>\n",
    "* **Alternative Hypothesis (Ha​)**: There is a difference in performance  between the Light Theme and Dark Theme.<br>\n",
    "<br>"
   ]
  },
  {
   "cell_type": "code",
   "execution_count": 23,
   "id": "34d41e84",
   "metadata": {},
   "outputs": [
    {
     "data": {
      "text/plain": [
       "(0.4748494462782632, 0.6349982678451778)"
      ]
     },
     "execution_count": 23,
     "metadata": {},
     "output_type": "execute_result"
    }
   ],
   "source": [
    "###lets perform t-test to validate null hypothesis \n",
    "\n",
    "# extracting conversion rates for both themes\n",
    "conversion_rates_light = df[df['Theme'] == 'Light Theme']['Conversion Rate']\n",
    "conversion_rates_dark = df[df['Theme'] == 'Dark Theme']['Conversion Rate']\n",
    "\n",
    "# performing a two-sample t-test\n",
    "t_stat, p_value = ttest_ind(conversion_rates_light, conversion_rates_dark, equal_var=False)\n",
    "\n",
    "print(\"t-score\"t_stat, p_value"
   ]
  },
  {
   "cell_type": "markdown",
   "id": "f2c6cd59",
   "metadata": {},
   "source": [
    "* The result of the two-sample t-test gives a p-value of approximately 0.635(**63.5%**). Since this p-value is much greater than our significance level of 0.05, we do not have enough evidence to reject the null hypothesis. Therefore, we conclude that there is no statistically significant difference in Conversion Rates between the Light Theme and Dark Theme based on the data provided."
   ]
  },
  {
   "cell_type": "code",
   "execution_count": 24,
   "id": "790da54f",
   "metadata": {},
   "outputs": [
    {
     "name": "stdout",
     "output_type": "stream",
     "text": [
      "P-value for Click Through Rate: 0.04818435371010704\n",
      "P-value for Session_Duration: 0.7242292543366338\n",
      "P-value for Bounce Rate: 0.229692077505148\n",
      "P-value for Scroll_Depth: 0.4496919249484911\n"
     ]
    }
   ],
   "source": [
    "from scipy.stats import ttest_ind\n",
    "\n",
    "# Define the metrics for which you want to compare conversion rates\n",
    "metrics = ['Click Through Rate', 'Session_Duration', 'Bounce Rate', 'Scroll_Depth']\n",
    "\n",
    "# Initialize an empty dictionary to store p-values for each metric\n",
    "p_values = {}\n",
    "\n",
    "# Iterate over each metric\n",
    "for metric in metrics:\n",
    "    # Extract conversion rates for both themes\n",
    "    conversion_rates_light = df[df['Theme'] == 'Light Theme'][metric]\n",
    "    conversion_rates_dark = df[df['Theme'] == 'Dark Theme'][metric]\n",
    "    \n",
    "    # Perform a two-sample t-test\n",
    "    t_stat, p_value = ttest_ind(conversion_rates_light, conversion_rates_dark, equal_var=False)\n",
    "    \n",
    "    # Store the p-value for the metric\n",
    "    p_values[metric] = p_value\n",
    "    \n",
    "\n",
    "# Display the p-values for each metric\n",
    "for metric, p_value in p_values.items():\n",
    "    print(f'P-value for {metric}: {p_value}')\n"
   ]
  },
  {
   "cell_type": "code",
   "execution_count": 26,
   "id": "8e311d52",
   "metadata": {},
   "outputs": [
    {
     "data": {
      "text/html": [
       "<div>\n",
       "<style scoped>\n",
       "    .dataframe tbody tr th:only-of-type {\n",
       "        vertical-align: middle;\n",
       "    }\n",
       "\n",
       "    .dataframe tbody tr th {\n",
       "        vertical-align: top;\n",
       "    }\n",
       "\n",
       "    .dataframe thead th {\n",
       "        text-align: right;\n",
       "    }\n",
       "</style>\n",
       "<table border=\"1\" class=\"dataframe\">\n",
       "  <thead>\n",
       "    <tr style=\"text-align: right;\">\n",
       "      <th></th>\n",
       "      <th>Metric</th>\n",
       "      <th>t-value</th>\n",
       "      <th>p-value</th>\n",
       "    </tr>\n",
       "  </thead>\n",
       "  <tbody>\n",
       "    <tr>\n",
       "      <th>0</th>\n",
       "      <td>Click Through Rate</td>\n",
       "      <td>-1.978171</td>\n",
       "      <td>0.048184</td>\n",
       "    </tr>\n",
       "    <tr>\n",
       "      <th>1</th>\n",
       "      <td>Session_Duration</td>\n",
       "      <td>0.352912</td>\n",
       "      <td>0.724229</td>\n",
       "    </tr>\n",
       "    <tr>\n",
       "      <th>2</th>\n",
       "      <td>Bounce Rate</td>\n",
       "      <td>-1.201888</td>\n",
       "      <td>0.229692</td>\n",
       "    </tr>\n",
       "    <tr>\n",
       "      <th>3</th>\n",
       "      <td>Scroll_Depth</td>\n",
       "      <td>0.756228</td>\n",
       "      <td>0.449692</td>\n",
       "    </tr>\n",
       "  </tbody>\n",
       "</table>\n",
       "</div>"
      ],
      "text/plain": [
       "               Metric   t-value   p-value\n",
       "0  Click Through Rate -1.978171  0.048184\n",
       "1    Session_Duration  0.352912  0.724229\n",
       "2         Bounce Rate -1.201888  0.229692\n",
       "3        Scroll_Depth  0.756228  0.449692"
      ]
     },
     "execution_count": 26,
     "metadata": {},
     "output_type": "execute_result"
    }
   ],
   "source": [
    "import pandas as pd\n",
    "from scipy.stats import ttest_ind\n",
    "\n",
    "# Define the metrics for which you want to compare conversion rates\n",
    "metrics = ['Click Through Rate', 'Session_Duration', 'Bounce Rate', 'Scroll_Depth']\n",
    "\n",
    "# Initialize empty lists to store t-values and p-values\n",
    "t_values = []\n",
    "p_values = []\n",
    "\n",
    "# Iterate over each metric\n",
    "for metric in metrics:\n",
    "    # Extract conversion rates for both themes\n",
    "    conversion_rates_light = df[df['Theme'] == 'Light Theme'][metric]\n",
    "    conversion_rates_dark = df[df['Theme'] == 'Dark Theme'][metric]\n",
    "    \n",
    "    # Perform a two-sample t-test\n",
    "    t_stat, p_value = ttest_ind(conversion_rates_light, conversion_rates_dark, equal_var=False)\n",
    "    \n",
    "    # Append the t-value and p-value to the respective lists\n",
    "    t_values.append(t_stat)\n",
    "    p_values.append(p_value)\n",
    "\n",
    "# Create a DataFrame from the t-values and p-values\n",
    "results_df = pd.DataFrame({'Metric': metrics, 't-value': t_values, 'p-value': p_values})\n",
    "\n",
    "results_df\n"
   ]
  },
  {
   "cell_type": "markdown",
   "id": "c8540a4a",
   "metadata": {},
   "source": [
    "* **Click Through Rate**: The test reveals a statistically significant difference, with the Dark Theme likely performing better (P-Value = 0.048).<br>\n",
    "<br>\n",
    "* **Conversion Rate**: No statistically significant difference was found (P-Value = 0.635).<br>\n",
    "<br>\n",
    "* **Bounce Rate**: There’s no statistically significant difference in Bounce Rates between the themes (P-Value = 0.230).<br>\n",
    "<br>\n",
    "* **Scroll Depth**: Similarly, no statistically significant difference is observed in Scroll Depths (P-Value = 0.450).<br>\n",
    "<br>\n",
    "---\n",
    "\n",
    "### Summary \n",
    "\n",
    "while the two themes perform similarly across most metrics, the Dark Theme has a slight edge in terms of engaging users to click through. For other key performance indicators like Conversion Rate, Bounce Rate, and Scroll Depth, the choice between a Light Theme and a Dark Theme does not significantly affect user behaviour according to the data provided"
   ]
  },
  {
   "cell_type": "code",
   "execution_count": null,
   "id": "77f8994d",
   "metadata": {},
   "outputs": [],
   "source": []
  }
 ],
 "metadata": {
  "kernelspec": {
   "display_name": "Python 3 (ipykernel)",
   "language": "python",
   "name": "python3"
  },
  "language_info": {
   "codemirror_mode": {
    "name": "ipython",
    "version": 3
   },
   "file_extension": ".py",
   "mimetype": "text/x-python",
   "name": "python",
   "nbconvert_exporter": "python",
   "pygments_lexer": "ipython3",
   "version": "3.11.9"
  }
 },
 "nbformat": 4,
 "nbformat_minor": 5
}
